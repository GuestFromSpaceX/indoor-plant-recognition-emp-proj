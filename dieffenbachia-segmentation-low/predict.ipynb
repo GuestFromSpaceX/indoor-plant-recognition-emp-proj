{
 "cells": [
  {
   "cell_type": "markdown",
   "metadata": {},
   "source": []
  },
  {
   "cell_type": "code",
   "execution_count": 1,
   "metadata": {},
   "outputs": [],
   "source": [
    "from ultralytics import YOLO\n"
   ]
  },
  {
   "cell_type": "code",
   "execution_count": 2,
   "metadata": {},
   "outputs": [
    {
     "name": "stdout",
     "output_type": "stream",
     "text": [
      "\n",
      "image 1/68 /Users/semenermolinskij/Projects/dieffenbachia-segmentation-low/housePlant100/house plant_1.jpg: 640x608 1 dieffenbachia-oVHx, 303.3ms\n",
      "image 2/68 /Users/semenermolinskij/Projects/dieffenbachia-segmentation-low/housePlant100/house plant_10.jpg: 640x640 (no detections), 264.6ms\n"
     ]
    },
    {
     "name": "stderr",
     "output_type": "stream",
     "text": [
      "[W NNPACK.cpp:64] Could not initialize NNPACK! Reason: Unsupported hardware.\n"
     ]
    },
    {
     "name": "stdout",
     "output_type": "stream",
     "text": [
      "image 3/68 /Users/semenermolinskij/Projects/dieffenbachia-segmentation-low/housePlant100/house plant_11.jpg: 640x480 (no detections), 209.7ms\n",
      "image 4/68 /Users/semenermolinskij/Projects/dieffenbachia-segmentation-low/housePlant100/house plant_12.jpg: 640x480 2 dieffenbachia-oVHxs, 139.0ms\n",
      "image 5/68 /Users/semenermolinskij/Projects/dieffenbachia-segmentation-low/housePlant100/house plant_13.jpg: 640x640 (no detections), 146.8ms\n",
      "image 6/68 /Users/semenermolinskij/Projects/dieffenbachia-segmentation-low/housePlant100/house plant_14.jpg: 640x576 1 dieffenbachia-oVHx, 201.3ms\n",
      "image 7/68 /Users/semenermolinskij/Projects/dieffenbachia-segmentation-low/housePlant100/house plant_15.jpg: 640x544 1 dieffenbachia-oVHx, 210.8ms\n",
      "image 8/68 /Users/semenermolinskij/Projects/dieffenbachia-segmentation-low/housePlant100/house plant_16.jpg: 640x480 (no detections), 124.9ms\n",
      "image 9/68 /Users/semenermolinskij/Projects/dieffenbachia-segmentation-low/housePlant100/house plant_17.jpg: 640x480 (no detections), 122.1ms\n",
      "image 10/68 /Users/semenermolinskij/Projects/dieffenbachia-segmentation-low/housePlant100/house plant_18.jpg: 384x640 1 dieffenbachia-oVHx, 194.3ms\n",
      "image 11/68 /Users/semenermolinskij/Projects/dieffenbachia-segmentation-low/housePlant100/house plant_19.jpg: 416x640 1 dieffenbachia-oVHx, 174.4ms\n",
      "image 12/68 /Users/semenermolinskij/Projects/dieffenbachia-segmentation-low/housePlant100/house plant_2.jpg: 480x640 1 dieffenbachia-oVHx, 184.4ms\n",
      "image 13/68 /Users/semenermolinskij/Projects/dieffenbachia-segmentation-low/housePlant100/house plant_20.jpg: 640x640 1 dieffenbachia-oVHx, 153.2ms\n",
      "image 14/68 /Users/semenermolinskij/Projects/dieffenbachia-segmentation-low/housePlant100/house plant_21.jpg: 640x640 (no detections), 156.9ms\n",
      "image 15/68 /Users/semenermolinskij/Projects/dieffenbachia-segmentation-low/housePlant100/house plant_22.jpg: 448x640 (no detections), 170.6ms\n",
      "image 16/68 /Users/semenermolinskij/Projects/dieffenbachia-segmentation-low/housePlant100/house plant_23.jpg: 640x512 1 dieffenbachia-oVHx, 197.0ms\n",
      "image 17/68 /Users/semenermolinskij/Projects/dieffenbachia-segmentation-low/housePlant100/house plant_24.jpg: 640x544 1 dieffenbachia-oVHx, 156.4ms\n",
      "image 18/68 /Users/semenermolinskij/Projects/dieffenbachia-segmentation-low/housePlant100/house plant_25.jpg: 640x544 (no detections), 141.6ms\n",
      "image 19/68 /Users/semenermolinskij/Projects/dieffenbachia-segmentation-low/housePlant100/house plant_26.jpg: 384x640 1 dieffenbachia-oVHx, 149.9ms\n",
      "image 20/68 /Users/semenermolinskij/Projects/dieffenbachia-segmentation-low/housePlant100/house plant_27.jpg: 640x448 (no detections), 219.9ms\n",
      "image 21/68 /Users/semenermolinskij/Projects/dieffenbachia-segmentation-low/housePlant100/house plant_28.jpg: 640x448 (no detections), 125.3ms\n",
      "image 22/68 /Users/semenermolinskij/Projects/dieffenbachia-segmentation-low/housePlant100/house plant_29.jpg: 640x640 (no detections), 158.3ms\n",
      "image 23/68 /Users/semenermolinskij/Projects/dieffenbachia-segmentation-low/housePlant100/house plant_3.jpg: 480x640 1 dieffenbachia-oVHx, 146.4ms\n",
      "image 24/68 /Users/semenermolinskij/Projects/dieffenbachia-segmentation-low/housePlant100/house plant_30.jpg: 448x640 (no detections), 121.4ms\n",
      "image 25/68 /Users/semenermolinskij/Projects/dieffenbachia-segmentation-low/housePlant100/house plant_31.jpg: 640x544 (no detections), 133.1ms\n",
      "image 26/68 /Users/semenermolinskij/Projects/dieffenbachia-segmentation-low/housePlant100/house plant_32.jpg: 640x448 1 dieffenbachia-oVHx, 139.9ms\n",
      "image 27/68 /Users/semenermolinskij/Projects/dieffenbachia-segmentation-low/housePlant100/house plant_33.jpg: 640x480 (no detections), 133.1ms\n",
      "image 28/68 /Users/semenermolinskij/Projects/dieffenbachia-segmentation-low/housePlant100/house plant_34.jpg: 640x544 1 dieffenbachia-oVHx, 167.4ms\n",
      "image 29/68 /Users/semenermolinskij/Projects/dieffenbachia-segmentation-low/housePlant100/house plant_35.jpg: 448x640 1 dieffenbachia-oVHx, 119.9ms\n",
      "image 30/68 /Users/semenermolinskij/Projects/dieffenbachia-segmentation-low/housePlant100/house plant_36.jpg: 640x640 (no detections), 176.9ms\n",
      "image 31/68 /Users/semenermolinskij/Projects/dieffenbachia-segmentation-low/housePlant100/house plant_37.jpg: 640x416 (no detections), 191.9ms\n",
      "image 32/68 /Users/semenermolinskij/Projects/dieffenbachia-segmentation-low/housePlant100/house plant_38.jpg: 640x352 1 dieffenbachia-oVHx, 156.1ms\n",
      "image 33/68 /Users/semenermolinskij/Projects/dieffenbachia-segmentation-low/housePlant100/house plant_39.jpg: 416x640 1 dieffenbachia-oVHx, 110.4ms\n",
      "image 34/68 /Users/semenermolinskij/Projects/dieffenbachia-segmentation-low/housePlant100/house plant_4.jpg: 640x640 1 dieffenbachia-oVHx, 149.9ms\n",
      "image 35/68 /Users/semenermolinskij/Projects/dieffenbachia-segmentation-low/housePlant100/house plant_40.jpg: 640x640 (no detections), 156.9ms\n",
      "image 36/68 /Users/semenermolinskij/Projects/dieffenbachia-segmentation-low/housePlant100/house plant_41.jpg: 640x640 (no detections), 217.1ms\n",
      "image 37/68 /Users/semenermolinskij/Projects/dieffenbachia-segmentation-low/housePlant100/house plant_42.jpg: 384x640 1 dieffenbachia-oVHx, 102.3ms\n",
      "image 38/68 /Users/semenermolinskij/Projects/dieffenbachia-segmentation-low/housePlant100/house plant_43.jpg: 640x640 (no detections), 213.5ms\n",
      "image 39/68 /Users/semenermolinskij/Projects/dieffenbachia-segmentation-low/housePlant100/house plant_44.jpg: 640x448 1 dieffenbachia-oVHx, 150.2ms\n",
      "image 40/68 /Users/semenermolinskij/Projects/dieffenbachia-segmentation-low/housePlant100/house plant_45.jpg: 640x448 1 dieffenbachia-oVHx, 177.5ms\n",
      "image 41/68 /Users/semenermolinskij/Projects/dieffenbachia-segmentation-low/housePlant100/house plant_47.jpg: 640x480 (no detections), 150.4ms\n",
      "image 42/68 /Users/semenermolinskij/Projects/dieffenbachia-segmentation-low/housePlant100/house plant_48.jpg: 640x448 1 dieffenbachia-oVHx, 130.2ms\n",
      "image 43/68 /Users/semenermolinskij/Projects/dieffenbachia-segmentation-low/housePlant100/house plant_49.jpg: 640x480 1 dieffenbachia-oVHx, 130.1ms\n",
      "image 44/68 /Users/semenermolinskij/Projects/dieffenbachia-segmentation-low/housePlant100/house plant_5.jpg: 640x544 (no detections), 143.4ms\n",
      "image 45/68 /Users/semenermolinskij/Projects/dieffenbachia-segmentation-low/housePlant100/house plant_50.jpg: 640x448 1 dieffenbachia-oVHx, 121.8ms\n",
      "image 46/68 /Users/semenermolinskij/Projects/dieffenbachia-segmentation-low/housePlant100/house plant_51.jpg: 544x640 (no detections), 205.1ms\n",
      "image 47/68 /Users/semenermolinskij/Projects/dieffenbachia-segmentation-low/housePlant100/house plant_52.jpg: 640x608 (no detections), 159.1ms\n",
      "image 48/68 /Users/semenermolinskij/Projects/dieffenbachia-segmentation-low/housePlant100/house plant_53.jpg: 480x640 1 dieffenbachia-oVHx, 134.8ms\n",
      "image 49/68 /Users/semenermolinskij/Projects/dieffenbachia-segmentation-low/housePlant100/house plant_54.jpg: 640x544 1 dieffenbachia-oVHx, 150.3ms\n",
      "image 50/68 /Users/semenermolinskij/Projects/dieffenbachia-segmentation-low/housePlant100/house plant_55.jpg: 640x512 1 dieffenbachia-oVHx, 140.5ms\n",
      "image 51/68 /Users/semenermolinskij/Projects/dieffenbachia-segmentation-low/housePlant100/house plant_56.jpg: 640x512 1 dieffenbachia-oVHx, 147.0ms\n",
      "image 52/68 /Users/semenermolinskij/Projects/dieffenbachia-segmentation-low/housePlant100/house plant_57.jpg: 448x640 2 dieffenbachia-oVHxs, 133.1ms\n",
      "image 53/68 /Users/semenermolinskij/Projects/dieffenbachia-segmentation-low/housePlant100/house plant_58.jpg: 640x448 1 dieffenbachia-oVHx, 160.8ms\n",
      "image 54/68 /Users/semenermolinskij/Projects/dieffenbachia-segmentation-low/housePlant100/house plant_59.jpg: 640x416 (no detections), 113.8ms\n",
      "image 55/68 /Users/semenermolinskij/Projects/dieffenbachia-segmentation-low/housePlant100/house plant_6.jpg: 640x448 1 dieffenbachia-oVHx, 151.7ms\n",
      "image 56/68 /Users/semenermolinskij/Projects/dieffenbachia-segmentation-low/housePlant100/house plant_60.jpg: 640x480 1 dieffenbachia-oVHx, 140.4ms\n",
      "image 57/68 /Users/semenermolinskij/Projects/dieffenbachia-segmentation-low/housePlant100/house plant_61.jpg: 480x640 1 dieffenbachia-oVHx, 138.2ms\n",
      "image 58/68 /Users/semenermolinskij/Projects/dieffenbachia-segmentation-low/housePlant100/house plant_62.jpg: 640x448 1 dieffenbachia-oVHx, 131.5ms\n",
      "image 59/68 /Users/semenermolinskij/Projects/dieffenbachia-segmentation-low/housePlant100/house plant_63.jpg: 640x608 (no detections), 170.2ms\n",
      "image 60/68 /Users/semenermolinskij/Projects/dieffenbachia-segmentation-low/housePlant100/house plant_64.jpg: 640x640 1 dieffenbachia-oVHx, 163.5ms\n",
      "image 61/68 /Users/semenermolinskij/Projects/dieffenbachia-segmentation-low/housePlant100/house plant_65.jpg: 640x640 1 dieffenbachia-oVHx, 166.0ms\n",
      "image 62/68 /Users/semenermolinskij/Projects/dieffenbachia-segmentation-low/housePlant100/house plant_67.jpg: 608x640 1 dieffenbachia-oVHx, 217.1ms\n",
      "image 63/68 /Users/semenermolinskij/Projects/dieffenbachia-segmentation-low/housePlant100/house plant_68.jpg: 640x448 (no detections), 123.7ms\n",
      "image 64/68 /Users/semenermolinskij/Projects/dieffenbachia-segmentation-low/housePlant100/house plant_69.jpg: 640x480 1 dieffenbachia-oVHx, 140.5ms\n",
      "image 65/68 /Users/semenermolinskij/Projects/dieffenbachia-segmentation-low/housePlant100/house plant_7.jpg: 640x640 (no detections), 178.5ms\n",
      "image 66/68 /Users/semenermolinskij/Projects/dieffenbachia-segmentation-low/housePlant100/house plant_70.jpg: 640x480 1 dieffenbachia-oVHx, 135.3ms\n",
      "image 67/68 /Users/semenermolinskij/Projects/dieffenbachia-segmentation-low/housePlant100/house plant_8.jpg: 640x544 (no detections), 160.0ms\n",
      "image 68/68 /Users/semenermolinskij/Projects/dieffenbachia-segmentation-low/housePlant100/house plant_9.jpg: 480x640 1 dieffenbachia-oVHx, 158.7ms\n",
      "Speed: 3.4ms preprocess, 159.8ms inference, 0.9ms postprocess per image at shape (1, 3, 480, 640)\n",
      "Results saved to \u001b[1mruns/detect/predict9\u001b[0m\n"
     ]
    },
    {
     "ename": "",
     "evalue": "",
     "output_type": "error",
     "traceback": [
      "\u001b[1;31mThe Kernel crashed while executing code in the the current cell or a previous cell. Please review the code in the cell(s) to identify a possible cause of the failure. Click <a href='https://aka.ms/vscodeJupyterKernelCrash'>here</a> for more info. View Jupyter <a href='command:jupyter.viewOutput'>log</a> for further details."
     ]
    }
   ],
   "source": [
    "from ultralytics import YOLO\n",
    "\n",
    "# Load a model\n",
    "model = YOLO('/Users/semenermolinskij/Projects/dieffenbachia-segmentation-low/dieffLow0.pt')  # pretrained YOLOv8n model\n",
    "\n",
    "# Define path to directory containing images and videos for inference\n",
    "source = '/Users/semenermolinskij/Projects/dieffenbachia-segmentation-low/housePlant100'\n",
    "\n",
    "# Run inference on the source\n",
    "results = model(source, show=True, conf=0.02, save=True)  # generator of Results objects"
   ]
  }
 ],
 "metadata": {
  "kernelspec": {
   "display_name": "Python 3",
   "language": "python",
   "name": "python3"
  },
  "language_info": {
   "codemirror_mode": {
    "name": "ipython",
    "version": 3
   },
   "file_extension": ".py",
   "mimetype": "text/x-python",
   "name": "python",
   "nbconvert_exporter": "python",
   "pygments_lexer": "ipython3",
   "version": "3.9.13"
  }
 },
 "nbformat": 4,
 "nbformat_minor": 2
}
